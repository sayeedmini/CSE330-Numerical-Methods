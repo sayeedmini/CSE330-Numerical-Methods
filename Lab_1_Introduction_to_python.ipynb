{
  "nbformat": 4,
  "nbformat_minor": 0,
  "metadata": {
    "colab": {
      "provenance": [],
      "collapsed_sections": [
        "9dBbf8aJt_lQ",
        "GsZvuzfMqnyA",
        "VQew5guuvLf_",
        "CJ6TVcVsDPIY"
      ]
    },
    "kernelspec": {
      "name": "python3",
      "display_name": "Python 3"
    },
    "language_info": {
      "name": "python"
    }
  },
  "cells": [
    {
      "cell_type": "markdown",
      "metadata": {
        "id": "EjWanqTsd01i"
      },
      "source": [
        "# Introduction to Python\n",
        "\n",
        "---\n",
        "\n"
      ]
    },
    {
      "cell_type": "markdown",
      "metadata": {
        "id": "v4Voyy2UeMqq"
      },
      "source": [
        "# Variables & Data Types"
      ]
    },
    {
      "cell_type": "markdown",
      "metadata": {
        "id": "zTVLbvNehtqb"
      },
      "source": [
        "Dynamically typed"
      ]
    },
    {
      "cell_type": "code",
      "metadata": {
        "id": "FlyxVKgeeQrv"
      },
      "source": [
        "a = 123 #integer\n",
        "b = 1.23 #float\n",
        "c = 1 + 2j #complex\n",
        "d = \"hello world\" #string\n",
        "e = True #boolean true\n",
        "f =  False #boolean false"
      ],
      "execution_count": null,
      "outputs": []
    },
    {
      "cell_type": "code",
      "metadata": {
        "colab": {
          "base_uri": "https://localhost:8080/"
        },
        "id": "A-OA7nDvj_ws",
        "outputId": "ecd3f396-a545-49e5-d9e3-f1c78603cf5e"
      },
      "source": [
        "print (a)\n",
        "print (b)\n",
        "print (c)\n",
        "print (d)\n",
        "print (e)"
      ],
      "execution_count": null,
      "outputs": [
        {
          "output_type": "stream",
          "name": "stdout",
          "text": [
            "123\n",
            "1.23\n",
            "(1+2j)\n",
            "hello world\n",
            "True\n"
          ]
        }
      ]
    },
    {
      "cell_type": "code",
      "metadata": {
        "colab": {
          "base_uri": "https://localhost:8080/"
        },
        "id": "nwsGgMtOkbqQ",
        "outputId": "3d7e1e1c-dc65-4d7f-f945-fd7f0f06594a"
      },
      "source": [
        "type (c)"
      ],
      "execution_count": null,
      "outputs": [
        {
          "output_type": "execute_result",
          "data": {
            "text/plain": [
              "complex"
            ]
          },
          "metadata": {},
          "execution_count": 3
        }
      ]
    },
    {
      "cell_type": "code",
      "metadata": {
        "id": "g5FfK9oRmtvv",
        "outputId": "18380986-a398-48bf-af76-d12da4fc731b",
        "colab": {
          "base_uri": "https://localhost:8080/"
        }
      },
      "source": [
        "print (5 + 2)\n",
        "print (5 - 2)\n",
        "print (5 * 2)\n",
        "print (5 / 2)"
      ],
      "execution_count": null,
      "outputs": [
        {
          "output_type": "stream",
          "name": "stdout",
          "text": [
            "7\n",
            "3\n",
            "10\n",
            "2.5\n"
          ]
        }
      ]
    },
    {
      "cell_type": "code",
      "metadata": {
        "id": "LIKlfIjWkgMR",
        "outputId": "b9a3d223-e0d0-47e4-b2cd-fd4ecd91412a",
        "colab": {
          "base_uri": "https://localhost:8080/"
        }
      },
      "source": [
        "print (2 ** 4)\n",
        "print (5 // 2)"
      ],
      "execution_count": null,
      "outputs": [
        {
          "output_type": "stream",
          "name": "stdout",
          "text": [
            "16\n",
            "2\n"
          ]
        }
      ]
    },
    {
      "cell_type": "code",
      "metadata": {
        "colab": {
          "base_uri": "https://localhost:8080/"
        },
        "id": "3zkEJU30nKgl",
        "outputId": "74f1ea1d-9359-44ce-c079-e7bbe3ffaf3f"
      },
      "source": [
        "print (\"The current value of a is\", a, \"and b is\", b)"
      ],
      "execution_count": null,
      "outputs": [
        {
          "output_type": "stream",
          "name": "stdout",
          "text": [
            "The current value of a is 123 and b is 1.23\n"
          ]
        }
      ]
    },
    {
      "cell_type": "code",
      "metadata": {
        "colab": {
          "base_uri": "https://localhost:8080/"
        },
        "id": "Z68esa44npOi",
        "outputId": "0b941bcc-a1ef-4db9-922d-2ad0496efeaa"
      },
      "source": [
        "print (\"The current value of a is\", a, sep = '\\t')"
      ],
      "execution_count": null,
      "outputs": [
        {
          "output_type": "stream",
          "name": "stdout",
          "text": [
            "The current value of a is\t123\n"
          ]
        }
      ]
    },
    {
      "cell_type": "code",
      "metadata": {
        "colab": {
          "base_uri": "https://localhost:8080/"
        },
        "id": "J30NDxnMoU0h",
        "outputId": "850f5e44-166e-4fb5-f2de-c987b302a34c"
      },
      "source": [
        "print (\"The current value of a is\", a, end = \"\\n\\n\")\n",
        "print (\"Hello\")"
      ],
      "execution_count": null,
      "outputs": [
        {
          "output_type": "stream",
          "name": "stdout",
          "text": [
            "The current value of a is 123\n",
            "\n",
            "Hello\n"
          ]
        }
      ]
    },
    {
      "cell_type": "code",
      "metadata": {
        "id": "s6hK1lT_pFFy"
      },
      "source": [],
      "execution_count": null,
      "outputs": []
    },
    {
      "cell_type": "markdown",
      "metadata": {
        "id": "9dBbf8aJt_lQ"
      },
      "source": [
        "# Working with String"
      ]
    },
    {
      "cell_type": "code",
      "metadata": {
        "colab": {
          "base_uri": "https://localhost:8080/"
        },
        "id": "6up_Ob3LuU5s",
        "outputId": "8c148955-70be-47b6-e52b-8f92604b4de9"
      },
      "source": [
        "x = \"Hi!\"\n",
        "y = \"My name is Aquib\"\n",
        "z = x + y\n",
        "print (z)"
      ],
      "execution_count": null,
      "outputs": [
        {
          "output_type": "stream",
          "name": "stdout",
          "text": [
            "Hi!My name is Aquib\n"
          ]
        }
      ]
    },
    {
      "cell_type": "code",
      "metadata": {
        "colab": {
          "base_uri": "https://localhost:8080/"
        },
        "id": "syaLv62NueDy",
        "outputId": "d6986a71-a10d-4408-edfd-73254c4278d5"
      },
      "source": [
        "#accessing sting\n",
        "print (y[0])\n"
      ],
      "execution_count": null,
      "outputs": [
        {
          "output_type": "stream",
          "name": "stdout",
          "text": [
            "M\n"
          ]
        }
      ]
    },
    {
      "cell_type": "code",
      "metadata": {
        "colab": {
          "base_uri": "https://localhost:8080/"
        },
        "id": "Y_l-UNDwvcag",
        "outputId": "33f0cd02-ac6c-4216-a65c-b7df06405887"
      },
      "source": [
        "#sting length\n",
        "print (len(x))"
      ],
      "execution_count": null,
      "outputs": [
        {
          "output_type": "stream",
          "name": "stdout",
          "text": [
            "3\n"
          ]
        }
      ]
    },
    {
      "cell_type": "code",
      "metadata": {
        "colab": {
          "base_uri": "https://localhost:8080/"
        },
        "id": "xaudXtL0vhVb",
        "outputId": "685acce4-ab8e-4f65-da19-e44bd6cdc9b3"
      },
      "source": [
        "#last character\n",
        "print (y[len(y)-1])"
      ],
      "execution_count": null,
      "outputs": [
        {
          "output_type": "stream",
          "name": "stdout",
          "text": [
            "b\n"
          ]
        }
      ]
    },
    {
      "cell_type": "code",
      "metadata": {
        "colab": {
          "base_uri": "https://localhost:8080/"
        },
        "id": "_37J6Tk3v0oJ",
        "outputId": "12a1cf29-c5fa-4bfc-919f-ab45ece67aba"
      },
      "source": [
        "print (y[-1])"
      ],
      "execution_count": null,
      "outputs": [
        {
          "output_type": "stream",
          "name": "stdout",
          "text": [
            "b\n"
          ]
        }
      ]
    },
    {
      "cell_type": "code",
      "metadata": {
        "colab": {
          "base_uri": "https://localhost:8080/"
        },
        "id": "H_sH8sEMwHxo",
        "outputId": "b1bb2025-e315-4ed3-e3cb-f6e5af770581"
      },
      "source": [
        "#common string methods\n",
        "print (y.upper())\n",
        "print (y.lower())\n",
        "print (y.title())\n",
        "print (y.strip())\n",
        "print (y.strip().title())"
      ],
      "execution_count": null,
      "outputs": [
        {
          "output_type": "stream",
          "name": "stdout",
          "text": [
            "MY NAME IS AQUIB\n",
            "my name is aquib\n",
            "My Name Is Aquib\n",
            "My name is Aquib\n",
            "My Name Is Aquib\n"
          ]
        }
      ]
    },
    {
      "cell_type": "code",
      "metadata": {
        "colab": {
          "base_uri": "https://localhost:8080/"
        },
        "id": "PbZqi-rWwl-T",
        "outputId": "6886ef29-adc9-4106-ffd8-a253d42e39dd"
      },
      "source": [
        "#more string methods\n",
        "print (y.find(\"name\"))\n",
        "print (y.find(\"hello\"))\n",
        "print (y.find (\"a\"))"
      ],
      "execution_count": null,
      "outputs": [
        {
          "output_type": "stream",
          "name": "stdout",
          "text": [
            "3\n",
            "-1\n",
            "4\n"
          ]
        }
      ]
    },
    {
      "cell_type": "code",
      "metadata": {
        "colab": {
          "base_uri": "https://localhost:8080/"
        },
        "id": "R4RgbzjFzGF3",
        "outputId": "e0536fdb-5543-46fc-a1ce-0c73c109ca67"
      },
      "source": [
        "\"name\" in y"
      ],
      "execution_count": null,
      "outputs": [
        {
          "output_type": "execute_result",
          "data": {
            "text/plain": [
              "True"
            ]
          },
          "metadata": {},
          "execution_count": 16
        }
      ]
    },
    {
      "cell_type": "code",
      "metadata": {
        "colab": {
          "base_uri": "https://localhost:8080/"
        },
        "id": "pVCCoNFi1NN1",
        "outputId": "7d6bfcac-696d-4e53-bf07-b3f91ba639e8"
      },
      "source": [
        "m = \"my name is aquib\"\n",
        "m_new = m.replace(\"aquib\", \"azmain\")\n",
        "print (m_new)"
      ],
      "execution_count": null,
      "outputs": [
        {
          "output_type": "stream",
          "name": "stdout",
          "text": [
            "my name is azmain\n"
          ]
        }
      ]
    },
    {
      "cell_type": "code",
      "metadata": {
        "id": "imlFbhmx1bsP",
        "colab": {
          "base_uri": "https://localhost:8080/"
        },
        "outputId": "6d6fd0e5-5a43-402f-9cf1-dcef2b7c4dbb"
      },
      "source": [
        "#string slicing\n",
        "m = \"my name is azmain\"\n",
        "#m[a:b] -> return from index a up until index b(b not included)\n",
        "print (m[0:5])"
      ],
      "execution_count": null,
      "outputs": [
        {
          "output_type": "stream",
          "name": "stdout",
          "text": [
            "my na\n"
          ]
        }
      ]
    },
    {
      "cell_type": "code",
      "metadata": {
        "colab": {
          "base_uri": "https://localhost:8080/"
        },
        "id": "-ZSrkmOWVMds",
        "outputId": "a2193beb-71c6-4e09-b326-b93f2e8ab6df"
      },
      "source": [
        "print (m[:5])\n",
        "print (m[5:])"
      ],
      "execution_count": null,
      "outputs": [
        {
          "output_type": "stream",
          "name": "stdout",
          "text": [
            "my na\n",
            "me is azmain\n"
          ]
        }
      ]
    },
    {
      "cell_type": "code",
      "metadata": {
        "colab": {
          "base_uri": "https://localhost:8080/"
        },
        "id": "r5PnY6sgWATL",
        "outputId": "34e30c76-f7fb-404e-c8f3-6a062689f710"
      },
      "source": [
        "print (m[-4:])"
      ],
      "execution_count": null,
      "outputs": [
        {
          "output_type": "stream",
          "name": "stdout",
          "text": [
            "main\n"
          ]
        }
      ]
    },
    {
      "cell_type": "code",
      "metadata": {
        "id": "IbiYJIGsWbeo"
      },
      "source": [],
      "execution_count": null,
      "outputs": []
    },
    {
      "cell_type": "markdown",
      "metadata": {
        "id": "GsZvuzfMqnyA"
      },
      "source": [
        "# Taking Input from User"
      ]
    },
    {
      "cell_type": "code",
      "metadata": {
        "id": "Evyp7e0Wqve2"
      },
      "source": [
        "#use raw_input() method in python 2.7\n",
        "username = input(\"Enter username:\")\n",
        "print(\"Username is: \" + username)"
      ],
      "execution_count": null,
      "outputs": []
    },
    {
      "cell_type": "code",
      "metadata": {
        "id": "1M3pzdlLqwY3"
      },
      "source": [
        "num = int(input(\"Enter number:\"))\n",
        "print (num*2)"
      ],
      "execution_count": null,
      "outputs": []
    },
    {
      "cell_type": "markdown",
      "metadata": {
        "id": "VQew5guuvLf_"
      },
      "source": [
        "# Conditional Statements\n"
      ]
    },
    {
      "cell_type": "code",
      "metadata": {
        "id": "70G7WxdowqW5"
      },
      "source": [
        "x = 5\n",
        "y = 6\n",
        "\n",
        "# if (x>y)\n",
        "# {\n",
        "#   System.out.println(\"maximum is x\");\n",
        "# }\n",
        "# else\n",
        "# {\n",
        "#   System.out.println(\"maximum is y\");\n",
        "# }\n",
        "\n",
        "if x > y:\n",
        "  print(\"maximum is x\")\n",
        "else:\n",
        "  print (\"maximum is y\")"
      ],
      "execution_count": null,
      "outputs": []
    },
    {
      "cell_type": "code",
      "metadata": {
        "id": "bq1jQgBg2Gpm"
      },
      "source": [
        "#elif\n",
        "if x > y:\n",
        "  print(\"maximum is x\")\n",
        "elif x == y:\n",
        "  print (\"x and y are equal\")\n",
        "else:\n",
        "  print (\"maximum is y\")"
      ],
      "execution_count": null,
      "outputs": []
    },
    {
      "cell_type": "code",
      "metadata": {
        "id": "lrpswUoAtkkU"
      },
      "source": [
        "a = 200\n",
        "b = 33\n",
        "c = 500\n",
        "if a > b and c > a:\n",
        "  print(\"Both conditions are True\")"
      ],
      "execution_count": null,
      "outputs": []
    },
    {
      "cell_type": "code",
      "metadata": {
        "id": "aFjt_cyatoF5"
      },
      "source": [
        "a = 200\n",
        "b = 33\n",
        "c = 500\n",
        "if a > b or a > c:\n",
        "  print(\"At least one of the conditions is True\")"
      ],
      "execution_count": null,
      "outputs": []
    },
    {
      "cell_type": "code",
      "metadata": {
        "id": "dmKVJkRJtzMO"
      },
      "source": [
        "#nested if\n",
        "\n",
        "x = 40\n",
        "\n",
        "if x > 10:\n",
        "  print(\"Above ten,\")\n",
        "  if x > 20:\n",
        "    print(\"and also above 20!\")\n",
        "  else:\n",
        "    print(\"but not above 20.\")"
      ],
      "execution_count": null,
      "outputs": []
    },
    {
      "cell_type": "code",
      "metadata": {
        "id": "_Wex26leuYMq"
      },
      "source": [
        "#pass statement\n",
        "\n",
        "a = 33\n",
        "b = 200\n",
        "\n",
        "if b > a:\n",
        "  pass"
      ],
      "execution_count": null,
      "outputs": []
    },
    {
      "cell_type": "markdown",
      "metadata": {
        "id": "CJ6TVcVsDPIY"
      },
      "source": [
        "# Lists, Tuples, Sets and Dictionaries"
      ]
    },
    {
      "cell_type": "code",
      "metadata": {
        "id": "LPVLtyeGDRBX"
      },
      "source": [
        "#4 built-in data types in Python used to store collections of data\n",
        "\n",
        "#list-> array\n",
        "\n",
        "my_list = [1, 2, 3, 4, 5]\n",
        "print (my_list)"
      ],
      "execution_count": null,
      "outputs": []
    },
    {
      "cell_type": "code",
      "metadata": {
        "id": "8sJkgSDmemwk"
      },
      "source": [
        "type(my_list)"
      ],
      "execution_count": null,
      "outputs": []
    },
    {
      "cell_type": "code",
      "metadata": {
        "id": "bCpEjauGym4P"
      },
      "source": [
        "# list can store any type of data\n",
        "\n",
        "my_list2 = [1, 2.5, \"hello\", [4, 5, 6]]\n",
        "print (my_list2[3])"
      ],
      "execution_count": null,
      "outputs": []
    },
    {
      "cell_type": "code",
      "metadata": {
        "id": "R_joZe4UetQo"
      },
      "source": [
        "#list methods -> like string\n",
        "my_list = [1, 2, 3, 4, 5]\n",
        "\n",
        "print (len(my_list))\n",
        "print (4 in my_list) #searching\n",
        "print (10 in my_list)\n",
        "my_list[2]= 50\n",
        "my_list.append(\"hello\")\n",
        "my_list.remove(5)\n",
        "my_list.pop(1)\n",
        "joined_list = my_list + my_list2\n",
        "joined_list"
      ],
      "execution_count": null,
      "outputs": []
    },
    {
      "cell_type": "code",
      "metadata": {
        "id": "63H9xQrgfaiv"
      },
      "source": [
        "#slicing\n",
        "\n",
        "print (my_list[3])\n",
        "print (my_list[1:3])\n",
        "print (my_list[:3])\n",
        "print (my_list[3:])\n",
        "print (my_list[-3:])"
      ],
      "execution_count": null,
      "outputs": []
    },
    {
      "cell_type": "code",
      "metadata": {
        "id": "K0BU4T4ZBvvj"
      },
      "source": [
        "#advanced list slicing\n",
        "\n",
        "x = ['a', 'b', 'c', 'd', 'e', 'f']\n",
        "\n",
        "print (x[0:4:2])\n",
        "print (x[:])\n",
        "print (x[::2])\n",
        "print (x[::-1])"
      ],
      "execution_count": null,
      "outputs": []
    },
    {
      "cell_type": "code",
      "metadata": {
        "id": "JcuuYuPWDgdL"
      },
      "source": [
        "#print last 4 elements reverse order\n",
        "print (x[-1:-5:-1])"
      ],
      "execution_count": null,
      "outputs": []
    },
    {
      "cell_type": "code",
      "metadata": {
        "id": "Mc_JGQgpQ3As"
      },
      "source": [
        "#print 2nd to 5th element reverse order\n",
        "print (x[4:0:-1])"
      ],
      "execution_count": null,
      "outputs": []
    },
    {
      "cell_type": "code",
      "metadata": {
        "id": "rOJxv9fenkyt"
      },
      "source": [
        "#matrix -> list of lists\n",
        "# |1 2 3 4|\n",
        "# |5 6 7 8|\n",
        "\n",
        "mat = [[1, 2, 3, 4],[5, 6, 7, 8]]\n",
        "print (mat[1][2])"
      ],
      "execution_count": null,
      "outputs": []
    },
    {
      "cell_type": "code",
      "metadata": {
        "id": "DF4-z7ufhzAO"
      },
      "source": [
        "#tuple\n",
        "tup = (1, 2.3, 5, 6)\n",
        "\n",
        "#difference: tuple is unchangable/ immutable\n",
        "x[-1] = \"hello\"\n",
        "print (x)"
      ],
      "execution_count": null,
      "outputs": []
    },
    {
      "cell_type": "code",
      "metadata": {
        "id": "LyvLi8FGi_Uc"
      },
      "source": [
        "tup[0] = \"hello\"\n",
        "#error"
      ],
      "execution_count": null,
      "outputs": []
    },
    {
      "cell_type": "code",
      "metadata": {
        "id": "Trb_lDdSjHzm"
      },
      "source": [
        "#sets -> unchangable, unordered (no index), duplicates not allowed\n",
        "\n",
        "set1 = {\"apple\", \"banana\", \"cherry\", \"apple\"}\n",
        "print (set1)\n",
        "set1.add(\"orange\")\n",
        "set.remove(\"banana\")\n",
        "print (set1)"
      ],
      "execution_count": null,
      "outputs": []
    },
    {
      "cell_type": "code",
      "metadata": {
        "id": "pOUQePpaqd18"
      },
      "source": [
        "#dictionaries -> store data values in key:value pairs\n",
        "#changeable and does not allow duplicates.\n",
        "\n",
        "students = {\n",
        "    101:\"Arif\",\n",
        "    102:\"Hasan\",\n",
        "    103:\"Nafis\"\n",
        "}\n",
        "print (students)"
      ],
      "execution_count": null,
      "outputs": []
    },
    {
      "cell_type": "code",
      "metadata": {
        "id": "XV7NvwjwrhrE"
      },
      "source": [
        "print (students[\"name\"])"
      ],
      "execution_count": null,
      "outputs": []
    },
    {
      "cell_type": "code",
      "metadata": {
        "id": "X4X3GjusrnJn"
      },
      "source": [
        "students[101]=\"Tanvir\"\n",
        "students"
      ],
      "execution_count": null,
      "outputs": []
    },
    {
      "cell_type": "code",
      "metadata": {
        "id": "1ZO9YBkesZe7"
      },
      "source": [
        "students.update({\"105\": \"Sharif\"})\n",
        "students"
      ],
      "execution_count": null,
      "outputs": []
    },
    {
      "cell_type": "code",
      "metadata": {
        "id": "cS6Xi3Ettd1-"
      },
      "source": [
        "students.pop(102)\n",
        "students.popitem() #removes last item"
      ],
      "execution_count": null,
      "outputs": []
    },
    {
      "cell_type": "markdown",
      "metadata": {
        "id": "SzzSXpYD4Drf"
      },
      "source": [
        "# Loops"
      ]
    },
    {
      "cell_type": "code",
      "metadata": {
        "id": "Tcr8xPhx4H5M"
      },
      "source": [
        "#while loop\n",
        "n=0\n",
        "while n < 10:\n",
        "    print(n)\n",
        "    n = n +1 # n=+1"
      ],
      "execution_count": null,
      "outputs": []
    },
    {
      "cell_type": "code",
      "metadata": {
        "id": "tC-S2OGI4d9d"
      },
      "source": [
        "#foor loop\n",
        "for i in range(0, 9, 2):\n",
        "  print(i)"
      ],
      "execution_count": null,
      "outputs": []
    },
    {
      "cell_type": "code",
      "metadata": {
        "id": "EKuDuhMu4qnc"
      },
      "source": [
        "# iterate over the list\n",
        "mylist = ['a', 'b', 'c', 'd', 'e']\n",
        "\n",
        "for x in mylist:\n",
        "  print (x)"
      ],
      "execution_count": null,
      "outputs": []
    },
    {
      "cell_type": "code",
      "metadata": {
        "id": "8dcA1oag-B7-"
      },
      "source": [
        "# Program to iterate through a list using indexing\n",
        "mylist = ['a', 'b', 'c', 'd', 'e']\n",
        "\n",
        "# iterate over the list using index\n",
        "for i in range( 0, len(mylist)):\n",
        "    print(\"index=\", i, \"value=\", mylist[i])"
      ],
      "execution_count": null,
      "outputs": []
    },
    {
      "cell_type": "code",
      "metadata": {
        "id": "IIiSRjFP-lXz"
      },
      "source": [
        "fruits = [\"apple\", \"banana\", \"cherry\"]\n",
        "for x in fruits:\n",
        "  print(x)\n",
        "  if x == \"banana\":\n",
        "    break"
      ],
      "execution_count": null,
      "outputs": []
    },
    {
      "cell_type": "code",
      "metadata": {
        "id": "sNeQrHicAb0G"
      },
      "source": [
        "#With the continue statement we can stop the current iteration of the loop, and continue with the next:\n",
        "fruits = [\"apple\", \"banana\", \"cherry\"]\n",
        "for x in fruits:\n",
        "  if x == \"banana\":\n",
        "    continue\n",
        "  print(x)\n"
      ],
      "execution_count": null,
      "outputs": []
    },
    {
      "cell_type": "code",
      "metadata": {
        "id": "jUnzV11ZCelK"
      },
      "source": [
        "#nested list\n",
        "num_list = [1, 2, 3]\n",
        "alpha_list = ['a', 'b', 'c']\n",
        "\n",
        "for number in num_list:\n",
        "    print(number)\n",
        "    for letter in alpha_list:\n",
        "        print(letter)"
      ],
      "execution_count": null,
      "outputs": []
    },
    {
      "cell_type": "code",
      "metadata": {
        "id": "Em2qMCKZClns"
      },
      "source": [],
      "execution_count": null,
      "outputs": []
    },
    {
      "cell_type": "markdown",
      "metadata": {
        "id": "unCirwR_CxEA"
      },
      "source": [
        "# Functions"
      ]
    },
    {
      "cell_type": "code",
      "metadata": {
        "id": "YXCJIZzEC9Ql"
      },
      "source": [
        "def hello_function():\n",
        "  print(\"Hello\")\n",
        "\n",
        "hello_function()"
      ],
      "execution_count": null,
      "outputs": []
    },
    {
      "cell_type": "code",
      "metadata": {
        "id": "_SRVuGdpDFXG"
      },
      "source": [
        "#parameter\n",
        "def name_function(fname, lname):\n",
        "  print(fname + \" \" + lname)\n",
        "\n",
        "name_function(\"Aquib\", \"Azmain\")"
      ],
      "execution_count": null,
      "outputs": []
    },
    {
      "cell_type": "code",
      "metadata": {
        "id": "hwm3f3ZyFR3n"
      },
      "source": [
        "#return\n",
        "def sum_numbers(number1, number2):\n",
        "  result = number1+number2\n",
        "  return result\n",
        "\n",
        "x = sum_numbers(2, 3)\n",
        "print (x)"
      ],
      "execution_count": null,
      "outputs": []
    },
    {
      "cell_type": "code",
      "metadata": {
        "id": "dSJOG9ExGSZu"
      },
      "source": [
        "#Default Parameter Value\n",
        "def increment(number, by=1):\n",
        "    return number + by\n",
        "\n",
        "print(increment(2))\n",
        "print(increment(2, 2))\n",
        "\n",
        "# Keyword arguments\n",
        "print(increment(by=1, number=2))"
      ],
      "execution_count": null,
      "outputs": []
    },
    {
      "cell_type": "code",
      "metadata": {
        "id": "yw2aHsyyDUFm"
      },
      "source": [
        "#If the number of arguments is unknown, add a * before the parameter name:\n",
        "def print_student_list(*kids):\n",
        "  for x in kids:\n",
        "    print (x)\n",
        "\n",
        "print_student_list(\"Emil\", \"Tobias\", \"Linus\")"
      ],
      "execution_count": null,
      "outputs": []
    },
    {
      "cell_type": "code",
      "metadata": {
        "id": "Sqv5Bk4xELl-"
      },
      "source": [],
      "execution_count": null,
      "outputs": []
    },
    {
      "cell_type": "markdown",
      "metadata": {
        "id": "fd2ZdZVIQOM_"
      },
      "source": [
        "# NumPy"
      ]
    },
    {
      "cell_type": "code",
      "metadata": {
        "id": "mHoFNmocQQkI"
      },
      "source": [
        "#NumPy is a Python library.\n",
        "#NumPy is used for working with arrays.\n",
        "#NumPy is short for \"Numerical Python\".\n",
        "#NumPy aims to provide an array object that is up to 50x faster than traditional Python lists.\n",
        "#it provides a lot of supporting functions"
      ],
      "execution_count": null,
      "outputs": []
    },
    {
      "cell_type": "code",
      "metadata": {
        "id": "w2yp0gV5TseE",
        "colab": {
          "base_uri": "https://localhost:8080/"
        },
        "outputId": "8704f216-5f86-48e9-b9ac-a3135e0bd204"
      },
      "source": [
        "import numpy as np\n",
        "\n",
        "arr = np.array([1 , 2, 3, 2.45, \"hello\"])\n",
        "\n",
        "print(arr)\n",
        "\n",
        "print(type(arr))"
      ],
      "execution_count": null,
      "outputs": [
        {
          "output_type": "stream",
          "name": "stdout",
          "text": [
            "['1' '2' '3' '2.45' 'hello']\n",
            "<class 'numpy.ndarray'>\n"
          ]
        }
      ]
    },
    {
      "cell_type": "code",
      "source": [
        "a = np.zeros(4, dtype = \"int\")\n",
        "print(a)"
      ],
      "metadata": {
        "colab": {
          "base_uri": "https://localhost:8080/"
        },
        "id": "Sl2Jjt-x6-et",
        "outputId": "70536750-5dab-4c6d-c601-f2aa350a263d"
      },
      "execution_count": null,
      "outputs": [
        {
          "output_type": "stream",
          "name": "stdout",
          "text": [
            "[0 0 0 0]\n"
          ]
        }
      ]
    },
    {
      "cell_type": "code",
      "metadata": {
        "id": "YfPYLS0Wascp",
        "colab": {
          "base_uri": "https://localhost:8080/"
        },
        "outputId": "68c054d8-f33b-4407-aefd-4c17c1fbf2d6"
      },
      "source": [
        "print(len(arr))\n",
        "print(arr.shape)"
      ],
      "execution_count": null,
      "outputs": [
        {
          "output_type": "stream",
          "name": "stdout",
          "text": [
            "5\n",
            "(5,)\n"
          ]
        }
      ]
    },
    {
      "cell_type": "code",
      "metadata": {
        "id": "hy7zITCw6MxE",
        "colab": {
          "base_uri": "https://localhost:8080/"
        },
        "outputId": "6fdf2333-e163-4b22-84d2-14c8e1a2417e"
      },
      "source": [
        "#append\n",
        "x = np.array([1, 2, 3, 4, 5])\n",
        "y = np.append(x, [50, 70])\n",
        "print(y)\n",
        "print(x)"
      ],
      "execution_count": null,
      "outputs": [
        {
          "output_type": "stream",
          "name": "stdout",
          "text": [
            "[ 1  2  3  4  5 50 70]\n",
            "[1 2 3 4 5]\n"
          ]
        }
      ]
    },
    {
      "cell_type": "code",
      "metadata": {
        "id": "KFM0pMf16fSc",
        "colab": {
          "base_uri": "https://localhost:8080/"
        },
        "outputId": "925c31b6-0f5c-4fed-fedc-9c8349d87546"
      },
      "source": [
        "#delete\n",
        "x = np.array([1, 2, 3, 4, 5])\n",
        "y = np.delete(x, 2)\n",
        "print(x)\n",
        "print(y)"
      ],
      "execution_count": null,
      "outputs": [
        {
          "output_type": "stream",
          "name": "stdout",
          "text": [
            "[1 2 3 4 5]\n",
            "[1 2 4 5]\n"
          ]
        }
      ]
    },
    {
      "cell_type": "code",
      "metadata": {
        "id": "1OPCw25B857d",
        "colab": {
          "base_uri": "https://localhost:8080/"
        },
        "outputId": "286d4c51-4e88-4126-cea7-26aa5014e170"
      },
      "source": [
        "#sorting\n",
        "x = np.array([7, 8, 3, 10, 5])\n",
        "sorted_x = np.sort(x)\n",
        "print(sorted_x)\n",
        "print(sorted_x[::-1])"
      ],
      "execution_count": null,
      "outputs": [
        {
          "output_type": "stream",
          "name": "stdout",
          "text": [
            "[ 3  5  7  8 10]\n",
            "[10  8  7  5  3]\n"
          ]
        }
      ]
    },
    {
      "cell_type": "code",
      "metadata": {
        "id": "K97ZCq-reSGA",
        "colab": {
          "base_uri": "https://localhost:8080/"
        },
        "outputId": "3b0cfad5-b96b-42ba-f16e-6abf76527aa1"
      },
      "source": [
        "arr_2d = np.array([[1, 2, 3], [4, 5, 6]])\n",
        "print(arr_2d)\n",
        "\n",
        "print(len(arr_2d))\n",
        "print(arr_2d.shape)\n",
        "print(arr_2d.ndim)"
      ],
      "execution_count": null,
      "outputs": [
        {
          "output_type": "stream",
          "name": "stdout",
          "text": [
            "[[1 2 3]\n",
            " [4 5 6]]\n",
            "2\n",
            "(2, 3)\n",
            "2\n"
          ]
        }
      ]
    },
    {
      "cell_type": "code",
      "metadata": {
        "id": "FZi1cPECa6VL",
        "colab": {
          "base_uri": "https://localhost:8080/"
        },
        "outputId": "b7d55700-448a-4339-d759-cdf80e9a0e0c"
      },
      "source": [
        "#indexing\n",
        "\n",
        "arr = np.array([1, 2, 3, 4])\n",
        "print(arr[0])\n",
        "print(arr[-1])\n",
        "\n",
        "arr = np.array([[1,2,3,4,5], [6,7,8,9,10]])\n",
        "print('5th element on 2nd dim: ', arr[1, 4])"
      ],
      "execution_count": null,
      "outputs": [
        {
          "output_type": "stream",
          "name": "stdout",
          "text": [
            "1\n",
            "4\n",
            "5th element on 2nd dim:  10\n"
          ]
        }
      ]
    },
    {
      "cell_type": "code",
      "metadata": {
        "id": "grWnXhWjhEee"
      },
      "source": [
        "#Slicing -> [start:end:step]\n",
        "#The result includes the start index, but excludes the end index."
      ],
      "execution_count": null,
      "outputs": []
    },
    {
      "cell_type": "code",
      "metadata": {
        "id": "2LV89y2aiFfP",
        "colab": {
          "base_uri": "https://localhost:8080/"
        },
        "outputId": "ead2b3db-ae1d-461e-9a8b-5ae38ef5a1b5"
      },
      "source": [
        "arr = np.array([1, 2, 3, 4, 5, 6, 7])\n",
        "print(arr[4:])\n",
        "print(arr[:4])\n",
        "print(arr[-3:-1])\n",
        "print(arr[1:5:2])"
      ],
      "execution_count": null,
      "outputs": [
        {
          "output_type": "stream",
          "name": "stdout",
          "text": [
            "[5 6 7]\n",
            "[1 2 3 4]\n",
            "[5 6]\n",
            "[2 4]\n"
          ]
        }
      ]
    },
    {
      "cell_type": "code",
      "metadata": {
        "id": "9teVRrRroXpl",
        "colab": {
          "base_uri": "https://localhost:8080/"
        },
        "outputId": "67088243-4c0a-4fdc-b228-5fb2999cc2f2"
      },
      "source": [
        "#Slicing 2-D Arrays\n",
        "\n",
        "#From the second element, slice elements from index 1 to index 4 (not included):\n",
        "\n",
        "arr = np.array([[1, 2, 3, 4, 5], [6, 7, 8, 9, 10]])\n",
        "print(arr[1, 1:4])\n",
        "\n",
        "#from both elements, slice index 1 to index 4 (not included)\n",
        "print(arr[0:2, 1:4])"
      ],
      "execution_count": null,
      "outputs": [
        {
          "output_type": "stream",
          "name": "stdout",
          "text": [
            "[7 8 9]\n",
            "[[2 3 4]\n",
            " [7 8 9]]\n"
          ]
        }
      ]
    },
    {
      "cell_type": "code",
      "metadata": {
        "id": "EZMkPM_kpm2h",
        "colab": {
          "base_uri": "https://localhost:8080/"
        },
        "outputId": "7a2bf322-5926-4082-908b-9fea07bae3fd"
      },
      "source": [
        "arr = np.array([[1, 2, 3, 4, 5], [6, 7, 8, 9, 10],[11,12,13,14,15],[16,17,18,19,20]])\n",
        "print (arr)"
      ],
      "execution_count": null,
      "outputs": [
        {
          "output_type": "stream",
          "name": "stdout",
          "text": [
            "[[ 1  2  3  4  5]\n",
            " [ 6  7  8  9 10]\n",
            " [11 12 13 14 15]\n",
            " [16 17 18 19 20]]\n"
          ]
        }
      ]
    },
    {
      "cell_type": "code",
      "source": [
        "print(arr[0:3,0])"
      ],
      "metadata": {
        "colab": {
          "base_uri": "https://localhost:8080/"
        },
        "id": "uAbJoyorUOoD",
        "outputId": "6d2cbe83-50dd-4e14-f6b6-e5864162892d"
      },
      "execution_count": null,
      "outputs": [
        {
          "output_type": "stream",
          "name": "stdout",
          "text": [
            "[ 1  6 11]\n"
          ]
        }
      ]
    },
    {
      "cell_type": "code",
      "metadata": {
        "id": "lfB7F_ryqGqg",
        "colab": {
          "base_uri": "https://localhost:8080/"
        },
        "outputId": "e4a0f9e8-017e-496f-ca5b-fa89e7a3e4e9"
      },
      "source": [
        "print(arr[:, 0]) # column\n",
        "print(arr[:, 1]) # column\n",
        "print(arr[0, :]) # row"
      ],
      "execution_count": null,
      "outputs": [
        {
          "output_type": "stream",
          "name": "stdout",
          "text": [
            "[ 1  6 11 16]\n",
            "[ 2  7 12 17]\n",
            "[1 2 3 4 5]\n"
          ]
        }
      ]
    },
    {
      "cell_type": "code",
      "metadata": {
        "id": "Jsj40BStq3Cs"
      },
      "source": [
        "# special numpy functions"
      ],
      "execution_count": null,
      "outputs": []
    },
    {
      "cell_type": "code",
      "metadata": {
        "id": "p3Pwltkary0N",
        "colab": {
          "base_uri": "https://localhost:8080/"
        },
        "outputId": "f114fb1d-5033-45db-fa6b-e3548f485177"
      },
      "source": [
        "#zero matrix\n",
        "\n",
        "x = np.zeros(2)\n",
        "print(x)\n",
        "\n",
        "y = np.zeros((4,2))\n",
        "print(y)"
      ],
      "execution_count": null,
      "outputs": [
        {
          "output_type": "stream",
          "name": "stdout",
          "text": [
            "[0. 0.]\n",
            "[[0. 0.]\n",
            " [0. 0.]\n",
            " [0. 0.]\n",
            " [0. 0.]]\n"
          ]
        }
      ]
    },
    {
      "cell_type": "code",
      "metadata": {
        "id": "Yu_EA172sdXD",
        "colab": {
          "base_uri": "https://localhost:8080/"
        },
        "outputId": "cf815f31-7589-4863-f64e-91d967d5d2e1"
      },
      "source": [
        "a = np.array([3, 4, 5])\n",
        "b = np.array([[1,2,3],[4,5,6]])\n",
        "\n",
        "print(np.sum(a))\n",
        "print(np.prod(a))\n",
        "print(np.sum(b))\n",
        "print(np.sum(b, axis=0))\n",
        "print(np.sum(b, axis=1))"
      ],
      "execution_count": null,
      "outputs": [
        {
          "output_type": "stream",
          "name": "stdout",
          "text": [
            "12\n",
            "60\n",
            "21\n",
            "[5 7 9]\n",
            "[ 6 15]\n"
          ]
        }
      ]
    },
    {
      "cell_type": "code",
      "metadata": {
        "id": "5pHUXryRuFdm",
        "colab": {
          "base_uri": "https://localhost:8080/"
        },
        "outputId": "8e844eb1-d874-4deb-bb1a-0f52f0613458"
      },
      "source": [
        "#logical indexing\n",
        "\n",
        "print(b > 2)"
      ],
      "execution_count": null,
      "outputs": [
        {
          "output_type": "stream",
          "name": "stdout",
          "text": [
            "[[False False  True]\n",
            " [ True  True  True]]\n"
          ]
        }
      ]
    },
    {
      "cell_type": "code",
      "metadata": {
        "id": "DByqqD1Ju7IW",
        "colab": {
          "base_uri": "https://localhost:8080/"
        },
        "outputId": "e595fcfc-a4e8-4ea7-a2ba-19f954b35e08"
      },
      "source": [
        "print(b[ b > 2 ])\n",
        "\n",
        "b[ b > 2 ] = 100\n",
        "print(b)"
      ],
      "execution_count": null,
      "outputs": [
        {
          "output_type": "stream",
          "name": "stdout",
          "text": [
            "[3 4 5 6]\n",
            "[[  1   2 100]\n",
            " [100 100 100]]\n"
          ]
        }
      ]
    },
    {
      "cell_type": "code",
      "metadata": {
        "id": "adWQXdF7vkH3",
        "colab": {
          "base_uri": "https://localhost:8080/"
        },
        "outputId": "84ac4944-fa47-47bf-e403-d01efbf951a6"
      },
      "source": [
        "#iterating numpy array\n",
        "\n",
        "arr = np.array([1, 2, 3])\n",
        "for x in arr:\n",
        "  print(x)\n",
        "\n",
        "arr = np.array([[1, 2, 3], [4, 5, 6]])\n",
        "for x in arr:\n",
        "  print(x)\n",
        "\n",
        "arr = np.array([[1, 2, 3], [4, 5, 6]])\n",
        "for x in arr:\n",
        "  for y in x:\n",
        "    print(y)"
      ],
      "execution_count": null,
      "outputs": [
        {
          "output_type": "stream",
          "name": "stdout",
          "text": [
            "1\n",
            "2\n",
            "3\n",
            "[1 2 3]\n",
            "[4 5 6]\n",
            "1\n",
            "2\n",
            "3\n",
            "4\n",
            "5\n",
            "6\n"
          ]
        }
      ]
    },
    {
      "cell_type": "code",
      "metadata": {
        "id": "WhyKL6NeDEmG",
        "colab": {
          "base_uri": "https://localhost:8080/"
        },
        "outputId": "8c560fab-e59b-4e2d-d9a6-506202fe984e"
      },
      "source": [
        "#linspace\n",
        "#12 = values in the array\n",
        "\n",
        "x = np.linspace(0, 100, 12)\n",
        "print(x)"
      ],
      "execution_count": null,
      "outputs": [
        {
          "output_type": "stream",
          "name": "stdout",
          "text": [
            "[  0.           9.09090909  18.18181818  27.27272727  36.36363636\n",
            "  45.45454545  54.54545455  63.63636364  72.72727273  81.81818182\n",
            "  90.90909091 100.        ]\n"
          ]
        }
      ]
    },
    {
      "cell_type": "code",
      "source": [
        "#arange\n",
        "#10 = step size\n",
        "x = np.arange(0,100,10)\n",
        "print(x)"
      ],
      "metadata": {
        "colab": {
          "base_uri": "https://localhost:8080/"
        },
        "id": "hyU-mWk4XpqI",
        "outputId": "7f5c65f5-48f0-4939-9c6f-21ba2f7408c4"
      },
      "execution_count": null,
      "outputs": [
        {
          "output_type": "stream",
          "name": "stdout",
          "text": [
            "[ 0 10 20 30 40 50 60 70 80 90]\n"
          ]
        }
      ]
    },
    {
      "cell_type": "code",
      "source": [],
      "metadata": {
        "id": "ZgmH-9hDXpoJ"
      },
      "execution_count": null,
      "outputs": []
    },
    {
      "cell_type": "code",
      "source": [],
      "metadata": {
        "id": "hII0m9GmXpk5"
      },
      "execution_count": null,
      "outputs": []
    },
    {
      "cell_type": "code",
      "metadata": {
        "id": "0L_UrQmE8ceX",
        "colab": {
          "base_uri": "https://localhost:8080/"
        },
        "outputId": "17ffd047-389e-4584-b571-586c43a35f33"
      },
      "source": [
        "#Numpy array element wise operation\n",
        "\n",
        "print(x + 10)"
      ],
      "execution_count": null,
      "outputs": [
        {
          "output_type": "stream",
          "name": "stdout",
          "text": [
            "[ 10.          19.09090909  28.18181818  37.27272727  46.36363636\n",
            "  55.45454545  64.54545455  73.63636364  82.72727273  91.81818182\n",
            " 100.90909091 110.        ]\n"
          ]
        }
      ]
    },
    {
      "cell_type": "code",
      "metadata": {
        "id": "RvRiQ3WXEM24",
        "colab": {
          "base_uri": "https://localhost:8080/"
        },
        "outputId": "2244647e-613c-4c94-fec4-c024d23e6052"
      },
      "source": [
        "y = np.array([1, 2, 3, 4])\n",
        "z = np.array([10, 10, 20, 30])\n",
        "print(y ** 2)\n",
        "print(2*y + z)"
      ],
      "execution_count": null,
      "outputs": [
        {
          "output_type": "stream",
          "name": "stdout",
          "text": [
            "[ 1  4  9 16]\n",
            "[12 14 26 38]\n"
          ]
        }
      ]
    },
    {
      "cell_type": "code",
      "metadata": {
        "id": "qjT16-4IEY3_"
      },
      "source": [],
      "execution_count": null,
      "outputs": []
    },
    {
      "cell_type": "markdown",
      "metadata": {
        "id": "Pdrabqn2EdJl"
      },
      "source": [
        "# Pandas"
      ]
    },
    {
      "cell_type": "code",
      "metadata": {
        "id": "voQQxHiQF7mj"
      },
      "source": [
        "#Pandas is a Python library.\n",
        "#Pandas is used to analyze data."
      ],
      "execution_count": null,
      "outputs": []
    },
    {
      "cell_type": "code",
      "metadata": {
        "id": "HvqopcLNN41j",
        "colab": {
          "base_uri": "https://localhost:8080/"
        },
        "outputId": "45afbae5-2a49-4739-9acd-137c47c3d6df"
      },
      "source": [
        "#dataframes-> 2 dimensional data structure\n",
        "\n",
        "import pandas as pd\n",
        "\n",
        "data = {\n",
        "  \"name\": ['Arif', 'Nafis', 'Hasan'],\n",
        "  \"age\": [35, 30, 40]\n",
        "}\n",
        "\n",
        "#load data into a DataFrame object:\n",
        "df = pd.DataFrame(data)\n",
        "\n",
        "print(df)\n"
      ],
      "execution_count": null,
      "outputs": [
        {
          "output_type": "stream",
          "name": "stdout",
          "text": [
            "    name  age\n",
            "0   Arif   35\n",
            "1  Nafis   30\n",
            "2  Hasan   40\n"
          ]
        }
      ]
    },
    {
      "cell_type": "code",
      "metadata": {
        "id": "jpaTlKKRRKzl",
        "colab": {
          "base_uri": "https://localhost:8080/"
        },
        "outputId": "9c57c230-48d6-490f-96df-8ac7a59895ad"
      },
      "source": [
        "#loc attribute\n",
        "print(df.loc[0])"
      ],
      "execution_count": null,
      "outputs": [
        {
          "output_type": "stream",
          "name": "stdout",
          "text": [
            "name    Arif\n",
            "age       35\n",
            "Name: 0, dtype: object\n"
          ]
        }
      ]
    },
    {
      "cell_type": "code",
      "metadata": {
        "id": "N2K_BSpET1IY",
        "colab": {
          "base_uri": "https://localhost:8080/"
        },
        "outputId": "32842137-a4e9-4869-d24a-294226df7afe"
      },
      "source": [
        "#read csv\n",
        "\n",
        "df = pd.read_csv('/content/sample_data/data.csv')\n",
        "#print (df)\n",
        "print (df.to_string())"
      ],
      "execution_count": null,
      "outputs": [
        {
          "output_type": "stream",
          "name": "stdout",
          "text": [
            "     Duration  Pulse  Maxpulse  Calories\n",
            "0          60    110       130     409.1\n",
            "1          60    117       145     479.0\n",
            "2          60    103       135     340.0\n",
            "3          45    109       175     282.4\n",
            "4          45    117       148     406.0\n",
            "5          60    102       127     300.0\n",
            "6          60    110       136     374.0\n",
            "7          45    104       134     253.3\n",
            "8          30    109       133     195.1\n",
            "9          60     98       124     269.0\n",
            "10         60    103       147     329.3\n",
            "11         60    100       120     250.7\n",
            "12         60    106       128     345.3\n",
            "13         60    104       132     379.3\n",
            "14         60     98       123     275.0\n",
            "15         60     98       120     215.2\n",
            "16         60    100       120     300.0\n",
            "17         45     90       112       NaN\n",
            "18         60    103       123     323.0\n",
            "19         45     97       125     243.0\n",
            "20         60    108       131     364.2\n",
            "21         45    100       119     282.0\n",
            "22         60    130       101     300.0\n",
            "23         45    105       132     246.0\n",
            "24         60    102       126     334.5\n",
            "25         60    100       120     250.0\n",
            "26         60     92       118     241.0\n",
            "27         60    103       132       NaN\n",
            "28         60    100       132     280.0\n",
            "29         60    102       129     380.3\n",
            "30         60     92       115     243.0\n",
            "31         45     90       112     180.1\n",
            "32         60    101       124     299.0\n",
            "33         60     93       113     223.0\n",
            "34         60    107       136     361.0\n",
            "35         60    114       140     415.0\n",
            "36         60    102       127     300.0\n",
            "37         60    100       120     300.0\n",
            "38         60    100       120     300.0\n",
            "39         45    104       129     266.0\n",
            "40         45     90       112     180.1\n",
            "41         60     98       126     286.0\n",
            "42         60    100       122     329.4\n",
            "43         60    111       138     400.0\n",
            "44         60    111       131     397.0\n",
            "45         60     99       119     273.0\n",
            "46         60    109       153     387.6\n",
            "47         45    111       136     300.0\n",
            "48         45    108       129     298.0\n",
            "49         60    111       139     397.6\n",
            "50         60    107       136     380.2\n",
            "51         80    123       146     643.1\n",
            "52         60    106       130     263.0\n",
            "53         60    118       151     486.0\n",
            "54         30    136       175     238.0\n",
            "55         60    121       146     450.7\n",
            "56         60    118       121     413.0\n",
            "57         45    115       144     305.0\n",
            "58         20    153       172     226.4\n",
            "59         45    123       152     321.0\n",
            "60        210    108       160    1376.0\n",
            "61        160    110       137    1034.4\n",
            "62        160    109       135     853.0\n",
            "63         45    118       141     341.0\n",
            "64         20    110       130     131.4\n",
            "65        180     90       130     800.4\n",
            "66        150    105       135     873.4\n",
            "67        150    107       130     816.0\n",
            "68         20    106       136     110.4\n",
            "69        300    108       143    1500.2\n",
            "70        150     97       129    1115.0\n",
            "71         60    109       153     387.6\n",
            "72         90    100       127     700.0\n",
            "73        150     97       127     953.2\n",
            "74         45    114       146     304.0\n",
            "75         90     98       125     563.2\n",
            "76         45    105       134     251.0\n",
            "77         45    110       141     300.0\n",
            "78        120    100       130     500.4\n",
            "79        270    100       131    1729.0\n",
            "80         30    159       182     319.2\n",
            "81         45    149       169     344.0\n",
            "82         30    103       139     151.1\n",
            "83        120    100       130     500.0\n",
            "84         45    100       120     225.3\n",
            "85         30    151       170     300.0\n",
            "86         45    102       136     234.0\n",
            "87        120    100       157    1000.1\n",
            "88         45    129       103     242.0\n",
            "89         20     83       107      50.3\n",
            "90        180    101       127     600.1\n",
            "91         45    107       137       NaN\n",
            "92         30     90       107     105.3\n",
            "93         15     80       100      50.5\n",
            "94         20    150       171     127.4\n",
            "95         20    151       168     229.4\n",
            "96         30     95       128     128.2\n",
            "97         25    152       168     244.2\n",
            "98         30    109       131     188.2\n",
            "99         90     93       124     604.1\n",
            "100        20     95       112      77.7\n",
            "101        90     90       110     500.0\n",
            "102        90     90       100     500.0\n",
            "103        90     90       100     500.4\n",
            "104        30     92       108      92.7\n",
            "105        30     93       128     124.0\n",
            "106       180     90       120     800.3\n",
            "107        30     90       120      86.2\n",
            "108        90     90       120     500.3\n",
            "109       210    137       184    1860.4\n",
            "110        60    102       124     325.2\n",
            "111        45    107       124     275.0\n",
            "112        15    124       139     124.2\n",
            "113        45    100       120     225.3\n",
            "114        60    108       131     367.6\n",
            "115        60    108       151     351.7\n",
            "116        60    116       141     443.0\n",
            "117        60     97       122     277.4\n",
            "118        60    105       125       NaN\n",
            "119        60    103       124     332.7\n",
            "120        30    112       137     193.9\n",
            "121        45    100       120     100.7\n",
            "122        60    119       169     336.7\n",
            "123        60    107       127     344.9\n",
            "124        60    111       151     368.5\n",
            "125        60     98       122     271.0\n",
            "126        60     97       124     275.3\n",
            "127        60    109       127     382.0\n",
            "128        90     99       125     466.4\n",
            "129        60    114       151     384.0\n",
            "130        60    104       134     342.5\n",
            "131        60    107       138     357.5\n",
            "132        60    103       133     335.0\n",
            "133        60    106       132     327.5\n",
            "134        60    103       136     339.0\n",
            "135        20    136       156     189.0\n",
            "136        45    117       143     317.7\n",
            "137        45    115       137     318.0\n",
            "138        45    113       138     308.0\n",
            "139        20    141       162     222.4\n",
            "140        60    108       135     390.0\n",
            "141        60     97       127       NaN\n",
            "142        45    100       120     250.4\n",
            "143        45    122       149     335.4\n",
            "144        60    136       170     470.2\n",
            "145        45    106       126     270.8\n",
            "146        60    107       136     400.0\n",
            "147        60    112       146     361.9\n",
            "148        30    103       127     185.0\n",
            "149        60    110       150     409.4\n",
            "150        60    106       134     343.0\n",
            "151        60    109       129     353.2\n",
            "152        60    109       138     374.0\n",
            "153        30    150       167     275.8\n",
            "154        60    105       128     328.0\n",
            "155        60    111       151     368.5\n",
            "156        60     97       131     270.4\n",
            "157        60    100       120     270.4\n",
            "158        60    114       150     382.8\n",
            "159        30     80       120     240.9\n",
            "160        30     85       120     250.4\n",
            "161        45     90       130     260.4\n",
            "162        45     95       130     270.0\n",
            "163        45    100       140     280.9\n",
            "164        60    105       140     290.8\n",
            "165        60    110       145     300.0\n",
            "166        60    115       145     310.2\n",
            "167        75    120       150     320.4\n",
            "168        75    125       150     330.4\n"
          ]
        }
      ]
    },
    {
      "cell_type": "code",
      "metadata": {
        "id": "UzIed3nGVdZ7",
        "colab": {
          "base_uri": "https://localhost:8080/"
        },
        "outputId": "1fabd4d8-6d40-475a-f107-ef04dada02ab"
      },
      "source": [
        "#analyzing data\n",
        "\n",
        "print(df.head(10))\n",
        "print(df.tail())\n",
        "print(df.tail(10))"
      ],
      "execution_count": null,
      "outputs": [
        {
          "output_type": "stream",
          "name": "stdout",
          "text": [
            "   Duration  Pulse  Maxpulse  Calories\n",
            "0        60    110       130     409.1\n",
            "1        60    117       145     479.0\n",
            "2        60    103       135     340.0\n",
            "3        45    109       175     282.4\n",
            "4        45    117       148     406.0\n",
            "5        60    102       127     300.0\n",
            "6        60    110       136     374.0\n",
            "7        45    104       134     253.3\n",
            "8        30    109       133     195.1\n",
            "9        60     98       124     269.0\n",
            "     Duration  Pulse  Maxpulse  Calories\n",
            "164        60    105       140     290.8\n",
            "165        60    110       145     300.0\n",
            "166        60    115       145     310.2\n",
            "167        75    120       150     320.4\n",
            "168        75    125       150     330.4\n",
            "     Duration  Pulse  Maxpulse  Calories\n",
            "159        30     80       120     240.9\n",
            "160        30     85       120     250.4\n",
            "161        45     90       130     260.4\n",
            "162        45     95       130     270.0\n",
            "163        45    100       140     280.9\n",
            "164        60    105       140     290.8\n",
            "165        60    110       145     300.0\n",
            "166        60    115       145     310.2\n",
            "167        75    120       150     320.4\n",
            "168        75    125       150     330.4\n"
          ]
        }
      ]
    },
    {
      "cell_type": "code",
      "metadata": {
        "id": "559sHQGrW1ZB",
        "colab": {
          "base_uri": "https://localhost:8080/"
        },
        "outputId": "4b3aba1b-5ec5-407a-a841-5cd218fb9376"
      },
      "source": [
        "print(df.info())\n",
        "print(df.describe())"
      ],
      "execution_count": null,
      "outputs": [
        {
          "output_type": "stream",
          "name": "stdout",
          "text": [
            "<class 'pandas.core.frame.DataFrame'>\n",
            "RangeIndex: 169 entries, 0 to 168\n",
            "Data columns (total 4 columns):\n",
            " #   Column    Non-Null Count  Dtype  \n",
            "---  ------    --------------  -----  \n",
            " 0   Duration  169 non-null    int64  \n",
            " 1   Pulse     169 non-null    int64  \n",
            " 2   Maxpulse  169 non-null    int64  \n",
            " 3   Calories  164 non-null    float64\n",
            "dtypes: float64(1), int64(3)\n",
            "memory usage: 5.4 KB\n",
            "None\n",
            "         Duration       Pulse    Maxpulse     Calories\n",
            "count  169.000000  169.000000  169.000000   164.000000\n",
            "mean    63.846154  107.461538  134.047337   375.790244\n",
            "std     42.299949   14.510259   16.450434   266.379919\n",
            "min     15.000000   80.000000  100.000000    50.300000\n",
            "25%     45.000000  100.000000  124.000000   250.925000\n",
            "50%     60.000000  105.000000  131.000000   318.600000\n",
            "75%     60.000000  111.000000  141.000000   387.600000\n",
            "max    300.000000  159.000000  184.000000  1860.400000\n"
          ]
        }
      ]
    },
    {
      "cell_type": "code",
      "metadata": {
        "id": "-QdtUmF8bKTj",
        "colab": {
          "base_uri": "https://localhost:8080/"
        },
        "outputId": "4e790161-b8df-4001-d0f5-0c8b0a4b7c58"
      },
      "source": [
        "print(df[\"Calories\"].mean())\n",
        "print(df[\"Calories\"].median())\n",
        "print(df[\"Calories\"].mode())"
      ],
      "execution_count": null,
      "outputs": [
        {
          "output_type": "stream",
          "name": "stdout",
          "text": [
            "375.79024390243904\n",
            "318.6\n",
            "0    300.0\n",
            "Name: Calories, dtype: float64\n"
          ]
        }
      ]
    },
    {
      "cell_type": "code",
      "metadata": {
        "id": "12F8NXMYW419"
      },
      "source": [
        "#Data Cleaning"
      ],
      "execution_count": null,
      "outputs": []
    },
    {
      "cell_type": "code",
      "metadata": {
        "id": "NaIcyGGBZmOM",
        "colab": {
          "base_uri": "https://localhost:8080/"
        },
        "outputId": "bfd8933e-658a-43bf-e198-248a46f328f8"
      },
      "source": [
        "#Return a new Data Frame with no empty cells\n",
        "new_df = df.dropna()\n",
        "print(df.to_string())"
      ],
      "execution_count": null,
      "outputs": [
        {
          "output_type": "stream",
          "name": "stdout",
          "text": [
            "     Duration  Pulse  Maxpulse  Calories\n",
            "0          60    110       130     409.1\n",
            "1          60    117       145     479.0\n",
            "2          60    103       135     340.0\n",
            "3          45    109       175     282.4\n",
            "4          45    117       148     406.0\n",
            "5          60    102       127     300.0\n",
            "6          60    110       136     374.0\n",
            "7          45    104       134     253.3\n",
            "8          30    109       133     195.1\n",
            "9          60     98       124     269.0\n",
            "10         60    103       147     329.3\n",
            "11         60    100       120     250.7\n",
            "12         60    106       128     345.3\n",
            "13         60    104       132     379.3\n",
            "14         60     98       123     275.0\n",
            "15         60     98       120     215.2\n",
            "16         60    100       120     300.0\n",
            "17         45     90       112       NaN\n",
            "18         60    103       123     323.0\n",
            "19         45     97       125     243.0\n",
            "20         60    108       131     364.2\n",
            "21         45    100       119     282.0\n",
            "22         60    130       101     300.0\n",
            "23         45    105       132     246.0\n",
            "24         60    102       126     334.5\n",
            "25         60    100       120     250.0\n",
            "26         60     92       118     241.0\n",
            "27         60    103       132       NaN\n",
            "28         60    100       132     280.0\n",
            "29         60    102       129     380.3\n",
            "30         60     92       115     243.0\n",
            "31         45     90       112     180.1\n",
            "32         60    101       124     299.0\n",
            "33         60     93       113     223.0\n",
            "34         60    107       136     361.0\n",
            "35         60    114       140     415.0\n",
            "36         60    102       127     300.0\n",
            "37         60    100       120     300.0\n",
            "38         60    100       120     300.0\n",
            "39         45    104       129     266.0\n",
            "40         45     90       112     180.1\n",
            "41         60     98       126     286.0\n",
            "42         60    100       122     329.4\n",
            "43         60    111       138     400.0\n",
            "44         60    111       131     397.0\n",
            "45         60     99       119     273.0\n",
            "46         60    109       153     387.6\n",
            "47         45    111       136     300.0\n",
            "48         45    108       129     298.0\n",
            "49         60    111       139     397.6\n",
            "50         60    107       136     380.2\n",
            "51         80    123       146     643.1\n",
            "52         60    106       130     263.0\n",
            "53         60    118       151     486.0\n",
            "54         30    136       175     238.0\n",
            "55         60    121       146     450.7\n",
            "56         60    118       121     413.0\n",
            "57         45    115       144     305.0\n",
            "58         20    153       172     226.4\n",
            "59         45    123       152     321.0\n",
            "60        210    108       160    1376.0\n",
            "61        160    110       137    1034.4\n",
            "62        160    109       135     853.0\n",
            "63         45    118       141     341.0\n",
            "64         20    110       130     131.4\n",
            "65        180     90       130     800.4\n",
            "66        150    105       135     873.4\n",
            "67        150    107       130     816.0\n",
            "68         20    106       136     110.4\n",
            "69        300    108       143    1500.2\n",
            "70        150     97       129    1115.0\n",
            "71         60    109       153     387.6\n",
            "72         90    100       127     700.0\n",
            "73        150     97       127     953.2\n",
            "74         45    114       146     304.0\n",
            "75         90     98       125     563.2\n",
            "76         45    105       134     251.0\n",
            "77         45    110       141     300.0\n",
            "78        120    100       130     500.4\n",
            "79        270    100       131    1729.0\n",
            "80         30    159       182     319.2\n",
            "81         45    149       169     344.0\n",
            "82         30    103       139     151.1\n",
            "83        120    100       130     500.0\n",
            "84         45    100       120     225.3\n",
            "85         30    151       170     300.0\n",
            "86         45    102       136     234.0\n",
            "87        120    100       157    1000.1\n",
            "88         45    129       103     242.0\n",
            "89         20     83       107      50.3\n",
            "90        180    101       127     600.1\n",
            "91         45    107       137       NaN\n",
            "92         30     90       107     105.3\n",
            "93         15     80       100      50.5\n",
            "94         20    150       171     127.4\n",
            "95         20    151       168     229.4\n",
            "96         30     95       128     128.2\n",
            "97         25    152       168     244.2\n",
            "98         30    109       131     188.2\n",
            "99         90     93       124     604.1\n",
            "100        20     95       112      77.7\n",
            "101        90     90       110     500.0\n",
            "102        90     90       100     500.0\n",
            "103        90     90       100     500.4\n",
            "104        30     92       108      92.7\n",
            "105        30     93       128     124.0\n",
            "106       180     90       120     800.3\n",
            "107        30     90       120      86.2\n",
            "108        90     90       120     500.3\n",
            "109       210    137       184    1860.4\n",
            "110        60    102       124     325.2\n",
            "111        45    107       124     275.0\n",
            "112        15    124       139     124.2\n",
            "113        45    100       120     225.3\n",
            "114        60    108       131     367.6\n",
            "115        60    108       151     351.7\n",
            "116        60    116       141     443.0\n",
            "117        60     97       122     277.4\n",
            "118        60    105       125       NaN\n",
            "119        60    103       124     332.7\n",
            "120        30    112       137     193.9\n",
            "121        45    100       120     100.7\n",
            "122        60    119       169     336.7\n",
            "123        60    107       127     344.9\n",
            "124        60    111       151     368.5\n",
            "125        60     98       122     271.0\n",
            "126        60     97       124     275.3\n",
            "127        60    109       127     382.0\n",
            "128        90     99       125     466.4\n",
            "129        60    114       151     384.0\n",
            "130        60    104       134     342.5\n",
            "131        60    107       138     357.5\n",
            "132        60    103       133     335.0\n",
            "133        60    106       132     327.5\n",
            "134        60    103       136     339.0\n",
            "135        20    136       156     189.0\n",
            "136        45    117       143     317.7\n",
            "137        45    115       137     318.0\n",
            "138        45    113       138     308.0\n",
            "139        20    141       162     222.4\n",
            "140        60    108       135     390.0\n",
            "141        60     97       127       NaN\n",
            "142        45    100       120     250.4\n",
            "143        45    122       149     335.4\n",
            "144        60    136       170     470.2\n",
            "145        45    106       126     270.8\n",
            "146        60    107       136     400.0\n",
            "147        60    112       146     361.9\n",
            "148        30    103       127     185.0\n",
            "149        60    110       150     409.4\n",
            "150        60    106       134     343.0\n",
            "151        60    109       129     353.2\n",
            "152        60    109       138     374.0\n",
            "153        30    150       167     275.8\n",
            "154        60    105       128     328.0\n",
            "155        60    111       151     368.5\n",
            "156        60     97       131     270.4\n",
            "157        60    100       120     270.4\n",
            "158        60    114       150     382.8\n",
            "159        30     80       120     240.9\n",
            "160        30     85       120     250.4\n",
            "161        45     90       130     260.4\n",
            "162        45     95       130     270.0\n",
            "163        45    100       140     280.9\n",
            "164        60    105       140     290.8\n",
            "165        60    110       145     300.0\n",
            "166        60    115       145     310.2\n",
            "167        75    120       150     320.4\n",
            "168        75    125       150     330.4\n"
          ]
        }
      ]
    },
    {
      "cell_type": "code",
      "metadata": {
        "id": "My06zqW8dbJp"
      },
      "source": [
        "#Replace NULL values with the number 130\n",
        "df.fillna(130, inplace = True)\n",
        "df[\"Calories\"].fillna(130, inplace = True)"
      ],
      "execution_count": null,
      "outputs": []
    },
    {
      "cell_type": "code",
      "metadata": {
        "id": "6lEVOMdGZ11U"
      },
      "source": [
        "#update data\n",
        "df.loc[7, 'Duration'] = 45"
      ],
      "execution_count": null,
      "outputs": []
    },
    {
      "cell_type": "code",
      "metadata": {
        "id": "WRBgEZfheIv3",
        "colab": {
          "base_uri": "https://localhost:8080/"
        },
        "outputId": "ceda8993-af07-48c2-e2e9-4173e85d3602"
      },
      "source": [
        "#duplicate data\n",
        "print(df.duplicated().to_string())"
      ],
      "execution_count": null,
      "outputs": [
        {
          "output_type": "stream",
          "name": "stdout",
          "text": [
            "0      False\n",
            "1      False\n",
            "2      False\n",
            "3      False\n",
            "4      False\n",
            "5      False\n",
            "6      False\n",
            "7      False\n",
            "8      False\n",
            "9      False\n",
            "10     False\n",
            "11     False\n",
            "12     False\n",
            "13     False\n",
            "14     False\n",
            "15     False\n",
            "16     False\n",
            "17     False\n",
            "18     False\n",
            "19     False\n",
            "20     False\n",
            "21     False\n",
            "22     False\n",
            "23     False\n",
            "24     False\n",
            "25     False\n",
            "26     False\n",
            "27     False\n",
            "28     False\n",
            "29     False\n",
            "30     False\n",
            "31     False\n",
            "32     False\n",
            "33     False\n",
            "34     False\n",
            "35     False\n",
            "36      True\n",
            "37      True\n",
            "38      True\n",
            "39     False\n",
            "40      True\n",
            "41     False\n",
            "42     False\n",
            "43     False\n",
            "44     False\n",
            "45     False\n",
            "46     False\n",
            "47     False\n",
            "48     False\n",
            "49     False\n",
            "50     False\n",
            "51     False\n",
            "52     False\n",
            "53     False\n",
            "54     False\n",
            "55     False\n",
            "56     False\n",
            "57     False\n",
            "58     False\n",
            "59     False\n",
            "60     False\n",
            "61     False\n",
            "62     False\n",
            "63     False\n",
            "64     False\n",
            "65     False\n",
            "66     False\n",
            "67     False\n",
            "68     False\n",
            "69     False\n",
            "70     False\n",
            "71      True\n",
            "72     False\n",
            "73     False\n",
            "74     False\n",
            "75     False\n",
            "76     False\n",
            "77     False\n",
            "78     False\n",
            "79     False\n",
            "80     False\n",
            "81     False\n",
            "82     False\n",
            "83     False\n",
            "84     False\n",
            "85     False\n",
            "86     False\n",
            "87     False\n",
            "88     False\n",
            "89     False\n",
            "90     False\n",
            "91     False\n",
            "92     False\n",
            "93     False\n",
            "94     False\n",
            "95     False\n",
            "96     False\n",
            "97     False\n",
            "98     False\n",
            "99     False\n",
            "100    False\n",
            "101    False\n",
            "102    False\n",
            "103    False\n",
            "104    False\n",
            "105    False\n",
            "106    False\n",
            "107    False\n",
            "108    False\n",
            "109    False\n",
            "110    False\n",
            "111    False\n",
            "112    False\n",
            "113     True\n",
            "114    False\n",
            "115    False\n",
            "116    False\n",
            "117    False\n",
            "118    False\n",
            "119    False\n",
            "120    False\n",
            "121    False\n",
            "122    False\n",
            "123    False\n",
            "124    False\n",
            "125    False\n",
            "126    False\n",
            "127    False\n",
            "128    False\n",
            "129    False\n",
            "130    False\n",
            "131    False\n",
            "132    False\n",
            "133    False\n",
            "134    False\n",
            "135    False\n",
            "136    False\n",
            "137    False\n",
            "138    False\n",
            "139    False\n",
            "140    False\n",
            "141    False\n",
            "142    False\n",
            "143    False\n",
            "144    False\n",
            "145    False\n",
            "146    False\n",
            "147    False\n",
            "148    False\n",
            "149    False\n",
            "150    False\n",
            "151    False\n",
            "152    False\n",
            "153    False\n",
            "154    False\n",
            "155     True\n",
            "156    False\n",
            "157    False\n",
            "158    False\n",
            "159    False\n",
            "160    False\n",
            "161    False\n",
            "162    False\n",
            "163    False\n",
            "164    False\n",
            "165    False\n",
            "166    False\n",
            "167    False\n",
            "168    False\n"
          ]
        }
      ]
    },
    {
      "cell_type": "code",
      "metadata": {
        "id": "7URVAAb3eN7I"
      },
      "source": [
        "df.drop_duplicates(inplace = True) #incorporate changes in main file"
      ],
      "execution_count": null,
      "outputs": []
    },
    {
      "cell_type": "code",
      "metadata": {
        "id": "N1IEToQKfEiA",
        "colab": {
          "base_uri": "https://localhost:8080/",
          "height": 175
        },
        "outputId": "c53bf984-96d7-4398-ee04-cd5dd1d882c9"
      },
      "source": [
        "#correlation\n",
        "\n",
        "df.corr()"
      ],
      "execution_count": null,
      "outputs": [
        {
          "output_type": "execute_result",
          "data": {
            "text/plain": [
              "          Duration     Pulse  Maxpulse  Calories\n",
              "Duration  1.000000 -0.155408  0.009403  0.916484\n",
              "Pulse    -0.155408  1.000000  0.786535  0.038050\n",
              "Maxpulse  0.009403  0.786535  1.000000  0.212324\n",
              "Calories  0.916484  0.038050  0.212324  1.000000"
            ],
            "text/html": [
              "\n",
              "  <div id=\"df-07c7583b-c525-4bd2-8f1e-cf2810a720f1\" class=\"colab-df-container\">\n",
              "    <div>\n",
              "<style scoped>\n",
              "    .dataframe tbody tr th:only-of-type {\n",
              "        vertical-align: middle;\n",
              "    }\n",
              "\n",
              "    .dataframe tbody tr th {\n",
              "        vertical-align: top;\n",
              "    }\n",
              "\n",
              "    .dataframe thead th {\n",
              "        text-align: right;\n",
              "    }\n",
              "</style>\n",
              "<table border=\"1\" class=\"dataframe\">\n",
              "  <thead>\n",
              "    <tr style=\"text-align: right;\">\n",
              "      <th></th>\n",
              "      <th>Duration</th>\n",
              "      <th>Pulse</th>\n",
              "      <th>Maxpulse</th>\n",
              "      <th>Calories</th>\n",
              "    </tr>\n",
              "  </thead>\n",
              "  <tbody>\n",
              "    <tr>\n",
              "      <th>Duration</th>\n",
              "      <td>1.000000</td>\n",
              "      <td>-0.155408</td>\n",
              "      <td>0.009403</td>\n",
              "      <td>0.916484</td>\n",
              "    </tr>\n",
              "    <tr>\n",
              "      <th>Pulse</th>\n",
              "      <td>-0.155408</td>\n",
              "      <td>1.000000</td>\n",
              "      <td>0.786535</td>\n",
              "      <td>0.038050</td>\n",
              "    </tr>\n",
              "    <tr>\n",
              "      <th>Maxpulse</th>\n",
              "      <td>0.009403</td>\n",
              "      <td>0.786535</td>\n",
              "      <td>1.000000</td>\n",
              "      <td>0.212324</td>\n",
              "    </tr>\n",
              "    <tr>\n",
              "      <th>Calories</th>\n",
              "      <td>0.916484</td>\n",
              "      <td>0.038050</td>\n",
              "      <td>0.212324</td>\n",
              "      <td>1.000000</td>\n",
              "    </tr>\n",
              "  </tbody>\n",
              "</table>\n",
              "</div>\n",
              "    <div class=\"colab-df-buttons\">\n",
              "\n",
              "  <div class=\"colab-df-container\">\n",
              "    <button class=\"colab-df-convert\" onclick=\"convertToInteractive('df-07c7583b-c525-4bd2-8f1e-cf2810a720f1')\"\n",
              "            title=\"Convert this dataframe to an interactive table.\"\n",
              "            style=\"display:none;\">\n",
              "\n",
              "  <svg xmlns=\"http://www.w3.org/2000/svg\" height=\"24px\" viewBox=\"0 -960 960 960\">\n",
              "    <path d=\"M120-120v-720h720v720H120Zm60-500h600v-160H180v160Zm220 220h160v-160H400v160Zm0 220h160v-160H400v160ZM180-400h160v-160H180v160Zm440 0h160v-160H620v160ZM180-180h160v-160H180v160Zm440 0h160v-160H620v160Z\"/>\n",
              "  </svg>\n",
              "    </button>\n",
              "\n",
              "  <style>\n",
              "    .colab-df-container {\n",
              "      display:flex;\n",
              "      gap: 12px;\n",
              "    }\n",
              "\n",
              "    .colab-df-convert {\n",
              "      background-color: #E8F0FE;\n",
              "      border: none;\n",
              "      border-radius: 50%;\n",
              "      cursor: pointer;\n",
              "      display: none;\n",
              "      fill: #1967D2;\n",
              "      height: 32px;\n",
              "      padding: 0 0 0 0;\n",
              "      width: 32px;\n",
              "    }\n",
              "\n",
              "    .colab-df-convert:hover {\n",
              "      background-color: #E2EBFA;\n",
              "      box-shadow: 0px 1px 2px rgba(60, 64, 67, 0.3), 0px 1px 3px 1px rgba(60, 64, 67, 0.15);\n",
              "      fill: #174EA6;\n",
              "    }\n",
              "\n",
              "    .colab-df-buttons div {\n",
              "      margin-bottom: 4px;\n",
              "    }\n",
              "\n",
              "    [theme=dark] .colab-df-convert {\n",
              "      background-color: #3B4455;\n",
              "      fill: #D2E3FC;\n",
              "    }\n",
              "\n",
              "    [theme=dark] .colab-df-convert:hover {\n",
              "      background-color: #434B5C;\n",
              "      box-shadow: 0px 1px 3px 1px rgba(0, 0, 0, 0.15);\n",
              "      filter: drop-shadow(0px 1px 2px rgba(0, 0, 0, 0.3));\n",
              "      fill: #FFFFFF;\n",
              "    }\n",
              "  </style>\n",
              "\n",
              "    <script>\n",
              "      const buttonEl =\n",
              "        document.querySelector('#df-07c7583b-c525-4bd2-8f1e-cf2810a720f1 button.colab-df-convert');\n",
              "      buttonEl.style.display =\n",
              "        google.colab.kernel.accessAllowed ? 'block' : 'none';\n",
              "\n",
              "      async function convertToInteractive(key) {\n",
              "        const element = document.querySelector('#df-07c7583b-c525-4bd2-8f1e-cf2810a720f1');\n",
              "        const dataTable =\n",
              "          await google.colab.kernel.invokeFunction('convertToInteractive',\n",
              "                                                    [key], {});\n",
              "        if (!dataTable) return;\n",
              "\n",
              "        const docLinkHtml = 'Like what you see? Visit the ' +\n",
              "          '<a target=\"_blank\" href=https://colab.research.google.com/notebooks/data_table.ipynb>data table notebook</a>'\n",
              "          + ' to learn more about interactive tables.';\n",
              "        element.innerHTML = '';\n",
              "        dataTable['output_type'] = 'display_data';\n",
              "        await google.colab.output.renderOutput(dataTable, element);\n",
              "        const docLink = document.createElement('div');\n",
              "        docLink.innerHTML = docLinkHtml;\n",
              "        element.appendChild(docLink);\n",
              "      }\n",
              "    </script>\n",
              "  </div>\n",
              "\n",
              "\n",
              "<div id=\"df-f57cd7b1-5548-4959-a633-af979f656d98\">\n",
              "  <button class=\"colab-df-quickchart\" onclick=\"quickchart('df-f57cd7b1-5548-4959-a633-af979f656d98')\"\n",
              "            title=\"Suggest charts\"\n",
              "            style=\"display:none;\">\n",
              "\n",
              "<svg xmlns=\"http://www.w3.org/2000/svg\" height=\"24px\"viewBox=\"0 0 24 24\"\n",
              "     width=\"24px\">\n",
              "    <g>\n",
              "        <path d=\"M19 3H5c-1.1 0-2 .9-2 2v14c0 1.1.9 2 2 2h14c1.1 0 2-.9 2-2V5c0-1.1-.9-2-2-2zM9 17H7v-7h2v7zm4 0h-2V7h2v10zm4 0h-2v-4h2v4z\"/>\n",
              "    </g>\n",
              "</svg>\n",
              "  </button>\n",
              "\n",
              "<style>\n",
              "  .colab-df-quickchart {\n",
              "      --bg-color: #E8F0FE;\n",
              "      --fill-color: #1967D2;\n",
              "      --hover-bg-color: #E2EBFA;\n",
              "      --hover-fill-color: #174EA6;\n",
              "      --disabled-fill-color: #AAA;\n",
              "      --disabled-bg-color: #DDD;\n",
              "  }\n",
              "\n",
              "  [theme=dark] .colab-df-quickchart {\n",
              "      --bg-color: #3B4455;\n",
              "      --fill-color: #D2E3FC;\n",
              "      --hover-bg-color: #434B5C;\n",
              "      --hover-fill-color: #FFFFFF;\n",
              "      --disabled-bg-color: #3B4455;\n",
              "      --disabled-fill-color: #666;\n",
              "  }\n",
              "\n",
              "  .colab-df-quickchart {\n",
              "    background-color: var(--bg-color);\n",
              "    border: none;\n",
              "    border-radius: 50%;\n",
              "    cursor: pointer;\n",
              "    display: none;\n",
              "    fill: var(--fill-color);\n",
              "    height: 32px;\n",
              "    padding: 0;\n",
              "    width: 32px;\n",
              "  }\n",
              "\n",
              "  .colab-df-quickchart:hover {\n",
              "    background-color: var(--hover-bg-color);\n",
              "    box-shadow: 0 1px 2px rgba(60, 64, 67, 0.3), 0 1px 3px 1px rgba(60, 64, 67, 0.15);\n",
              "    fill: var(--button-hover-fill-color);\n",
              "  }\n",
              "\n",
              "  .colab-df-quickchart-complete:disabled,\n",
              "  .colab-df-quickchart-complete:disabled:hover {\n",
              "    background-color: var(--disabled-bg-color);\n",
              "    fill: var(--disabled-fill-color);\n",
              "    box-shadow: none;\n",
              "  }\n",
              "\n",
              "  .colab-df-spinner {\n",
              "    border: 2px solid var(--fill-color);\n",
              "    border-color: transparent;\n",
              "    border-bottom-color: var(--fill-color);\n",
              "    animation:\n",
              "      spin 1s steps(1) infinite;\n",
              "  }\n",
              "\n",
              "  @keyframes spin {\n",
              "    0% {\n",
              "      border-color: transparent;\n",
              "      border-bottom-color: var(--fill-color);\n",
              "      border-left-color: var(--fill-color);\n",
              "    }\n",
              "    20% {\n",
              "      border-color: transparent;\n",
              "      border-left-color: var(--fill-color);\n",
              "      border-top-color: var(--fill-color);\n",
              "    }\n",
              "    30% {\n",
              "      border-color: transparent;\n",
              "      border-left-color: var(--fill-color);\n",
              "      border-top-color: var(--fill-color);\n",
              "      border-right-color: var(--fill-color);\n",
              "    }\n",
              "    40% {\n",
              "      border-color: transparent;\n",
              "      border-right-color: var(--fill-color);\n",
              "      border-top-color: var(--fill-color);\n",
              "    }\n",
              "    60% {\n",
              "      border-color: transparent;\n",
              "      border-right-color: var(--fill-color);\n",
              "    }\n",
              "    80% {\n",
              "      border-color: transparent;\n",
              "      border-right-color: var(--fill-color);\n",
              "      border-bottom-color: var(--fill-color);\n",
              "    }\n",
              "    90% {\n",
              "      border-color: transparent;\n",
              "      border-bottom-color: var(--fill-color);\n",
              "    }\n",
              "  }\n",
              "</style>\n",
              "\n",
              "  <script>\n",
              "    async function quickchart(key) {\n",
              "      const quickchartButtonEl =\n",
              "        document.querySelector('#' + key + ' button');\n",
              "      quickchartButtonEl.disabled = true;  // To prevent multiple clicks.\n",
              "      quickchartButtonEl.classList.add('colab-df-spinner');\n",
              "      try {\n",
              "        const charts = await google.colab.kernel.invokeFunction(\n",
              "            'suggestCharts', [key], {});\n",
              "      } catch (error) {\n",
              "        console.error('Error during call to suggestCharts:', error);\n",
              "      }\n",
              "      quickchartButtonEl.classList.remove('colab-df-spinner');\n",
              "      quickchartButtonEl.classList.add('colab-df-quickchart-complete');\n",
              "    }\n",
              "    (() => {\n",
              "      let quickchartButtonEl =\n",
              "        document.querySelector('#df-f57cd7b1-5548-4959-a633-af979f656d98 button');\n",
              "      quickchartButtonEl.style.display =\n",
              "        google.colab.kernel.accessAllowed ? 'block' : 'none';\n",
              "    })();\n",
              "  </script>\n",
              "</div>\n",
              "    </div>\n",
              "  </div>\n"
            ]
          },
          "metadata": {},
          "execution_count": 31
        }
      ]
    },
    {
      "cell_type": "code",
      "metadata": {
        "id": "-hG6odEXfGdj",
        "colab": {
          "base_uri": "https://localhost:8080/",
          "height": 447
        },
        "outputId": "42873f7d-bfe6-4da7-a900-e14da511468c"
      },
      "source": [
        "#plot data\n",
        "\n",
        "df.plot() #by default line graph shows\n"
      ],
      "execution_count": null,
      "outputs": [
        {
          "output_type": "execute_result",
          "data": {
            "text/plain": [
              "<Axes: >"
            ]
          },
          "metadata": {},
          "execution_count": 38
        },
        {
          "output_type": "display_data",
          "data": {
            "text/plain": [
              "<Figure size 640x480 with 1 Axes>"
            ],
            "image/png": "[encoded data removed]"
          },
          "metadata": {}
        }
      ]
    },
    {
      "cell_type": "code",
      "metadata": {
        "id": "dbxUQ_0pflWK",
        "colab": {
          "base_uri": "https://localhost:8080/",
          "height": 466
        },
        "outputId": "6e03bcdd-04ac-4906-97b8-f4c899b969fd"
      },
      "source": [
        "df.plot(kind = 'scatter', x = 'Duration', y = 'Calories')"
      ],
      "execution_count": null,
      "outputs": [
        {
          "output_type": "execute_result",
          "data": {
            "text/plain": [
              "<Axes: xlabel='Duration', ylabel='Calories'>"
            ]
          },
          "metadata": {},
          "execution_count": 33
        },
        {
          "output_type": "display_data",
          "data": {
            "text/plain": [
              "<Figure size 640x480 with 1 Axes>"
            ],
            "image/png": "[encoded data removed]"
          },
          "metadata": {}
        }
      ]
    },
    {
      "cell_type": "code",
      "metadata": {
        "id": "sFI9cVCnf1UZ",
        "colab": {
          "base_uri": "https://localhost:8080/",
          "height": 447
        },
        "outputId": "ee3f148a-5525-419d-c7d6-f1531a1df432"
      },
      "source": [
        "df[\"Duration\"].plot(kind = 'hist') #histogram"
      ],
      "execution_count": null,
      "outputs": [
        {
          "output_type": "execute_result",
          "data": {
            "text/plain": [
              "<Axes: ylabel='Frequency'>"
            ]
          },
          "metadata": {},
          "execution_count": 34
        },
        {
          "output_type": "display_data",
          "data": {
            "text/plain": [
              "<Figure size 640x480 with 1 Axes>"
            ],
            "image/png": "[encoded data removed]"
          },
          "metadata": {}
        }
      ]
    },
    {
      "cell_type": "code",
      "metadata": {
        "id": "tqn-bGJlgJ-3"
      },
      "source": [],
      "execution_count": null,
      "outputs": []
    }
  ]
}